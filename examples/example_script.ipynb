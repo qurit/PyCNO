{
 "cells": [
  {
   "cell_type": "markdown",
   "id": "8d83a794",
   "metadata": {},
   "source": [
    "This notebook shows some of the functionality in PyCNO."
   ]
  },
  {
   "cell_type": "code",
   "execution_count": null,
   "id": "04dac584",
   "metadata": {},
   "outputs": [],
   "source": [
    "# import dependencies\n",
    "import numpy as np\n",
    "import matplotlib.pyplot as plt\n",
    "import pycno"
   ]
  },
  {
   "cell_type": "markdown",
   "id": "6a23fb25",
   "metadata": {},
   "source": [
    "The following cell is the most simple case of simulating a single combination of PK paramters, and then plotting the results. If compartment volumes, or paramters are not specified, the default values will be used."
   ]
  },
  {
   "cell_type": "code",
   "execution_count": null,
   "id": "fe014020",
   "metadata": {},
   "outputs": [],
   "source": [
    "compartment_volumes = {\n",
    "    'Tumor1': 0.05,\n",
    "    'Tumor2': 0.05\n",
    "}\n",
    "parameters = {\n",
    "    'Rden_Tumor1': 10,\n",
    "    'lambdaRel_Kidney': 0.005\n",
    "}\n",
    "observables = ['Tumor1', 'Tumor2', 'Kidney', 'Heart', 'SG', 'Bone', 'TumorRest', 'Spleen', 'Liver', 'Prostate', 'GI', 'Rest', 'Skin', 'Muscle', 'Brain', 'RedMarrow', 'Lungs', 'Adipose']\n",
    "\n",
    "time, TACs = pycno.run_model(\n",
    "    model_name=\"PSMA\",\n",
    "    stop=1000, \n",
    "    parameters=parameters, \n",
    "    compartment_volumes=compartment_volumes, \n",
    "    observables=observables\n",
    "    )\n",
    "\n",
    "plt.plot(time, TACs[0,:,:4]) #only first 4 observables plotted here\n",
    "plt.legend(observables)\n",
    "plt.ylabel('Activity (MBq)')\n",
    "plt.show()"
   ]
  },
  {
   "cell_type": "markdown",
   "id": "5857e23c",
   "metadata": {},
   "source": [
    "The following cell shows how to simulated multiple combinations of PK paramters. All possible combinations of given parameters are simulated here."
   ]
  },
  {
   "cell_type": "code",
   "execution_count": null,
   "id": "91cd802b",
   "metadata": {},
   "outputs": [],
   "source": [
    "swept_parameters = ['Rden_Kidney', 'Rden_Tumor1']\n",
    "swept_values = [(Rden_Kidney,Rden_Tumor1)\n",
    "                for Rden_Kidney in np.linspace(100, 500, 3)\n",
    "                for Rden_Tumor1 in np.arange(100, 500, 50)\n",
    "                ]\n",
    "\n",
    "time, TACs = pycno.run_model(\n",
    "    model_name=\"PSMA\",\n",
    "    stop=1000,\n",
    "    swept_parameters=swept_parameters,\n",
    "    swept_values=swept_values,\n",
    "    observables=observables\n",
    ")"
   ]
  },
  {
   "cell_type": "code",
   "execution_count": null,
   "id": "70b077f8",
   "metadata": {},
   "outputs": [],
   "source": [
    "plt.plot(time, TACs[:,:,0].T)\n",
    "plt.xlabel('Time (mins)')\n",
    "plt.ylabel('Activity (MBq)')\n",
    "plt.title('Tumor 1 for varying parameters')\n",
    "plt.show()"
   ]
  },
  {
   "cell_type": "markdown",
   "id": "f1863a3c",
   "metadata": {},
   "source": [
    "If, instead of simulating combinations of parameter ranges, you want to simulate randomly generated PK parameters, you can do the following:"
   ]
  }
 ],
 "metadata": {
  "kernelspec": {
   "display_name": "pycno",
   "language": "python",
   "name": "python3"
  },
  "language_info": {
   "codemirror_mode": {
    "name": "ipython",
    "version": 3
   },
   "file_extension": ".py",
   "mimetype": "text/x-python",
   "name": "python",
   "nbconvert_exporter": "python",
   "pygments_lexer": "ipython3",
   "version": "3.10.18"
  }
 },
 "nbformat": 4,
 "nbformat_minor": 5
}
