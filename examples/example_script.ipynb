{
 "cells": [
  {
   "cell_type": "code",
   "execution_count": null,
   "id": "04dac584",
   "metadata": {},
   "outputs": [],
   "source": [
    "import os\n",
    "import numpy as np\n",
    "import matplotlib.pyplot as plt\n",
    "import libsbml\n",
    "from pyCNO import runPBPK"
   ]
  },
  {
   "cell_type": "code",
   "execution_count": null,
   "id": "91cd802b",
   "metadata": {},
   "outputs": [],
   "source": [
    "swept_parameters = ['Tumor1Volume', 'Rden_Tumor1']\n",
    "swept_values = [(Tumor1Volume,Rden_Tumor1)\n",
    "                for Tumor1Volume in np.linspace(0.1, 0.5, 6)\n",
    "                for Rden_Tumor1 in np.arange(0.1, 0.5, 0.1)\n",
    "                ]\n",
    "\n",
    "model_path = os.path.join(os.path.dirname(__file__), \"PBPK_177Lu_PSMA.sbml\")\n",
    "\n",
    "time, TACs = runPBPK(\n",
    "    model_path=model_path,\n",
    "    stop=10000,\n",
    "    swept_parameters=swept_parameters,\n",
    "    swept_values=swept_values,\n",
    ")\n",
    "plt.plot(time, TACs[0])\n",
    "plt.show()\n",
    "# %%\n",
    "\n",
    "\n",
    "num_curves = 1\n",
    "reader = libsbml.SBMLReader()\n",
    "document = reader.readSBML(\"PBPK_177Lu_PSMA.sbml\")\n",
    "sbml_model = document.getModel()\n",
    "\n",
    "for parameter in sbml_model.getListOfParameters():\n",
    "    for parameter_name in list(swept_parameters.keys()):\n",
    "        if parameter.getName() == parameter_name:\n",
    "            parameter.setValue(float(swept_parameters.pop(parameter_name)))\n",
    "if swept_parameters:\n",
    "    [print(f\"Parameter {parameter_name} not found in the model.\") for parameter_name in swept_parameters.keys()]"
   ]
  }
 ],
 "metadata": {
  "language_info": {
   "name": "python"
  }
 },
 "nbformat": 4,
 "nbformat_minor": 5
}
